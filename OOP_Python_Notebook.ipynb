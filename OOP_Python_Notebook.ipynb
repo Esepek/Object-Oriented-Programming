{
 "cells": [
  {
   "cell_type": "markdown",
   "id": "391ff1eb",
   "metadata": {},
   "source": [
    "# OOP (Object Oriented Programming) in Python"
   ]
  },
  {
   "cell_type": "markdown",
   "id": "ba17f5ba",
   "metadata": {},
   "source": [
    "### Was ist OOP?\n",
    "\n",
    "OOP, oder \"Objektorientierte Programmierung\", ist ein Programmierparadigma, bei dem Programme als Sammlung von objektorientierten Modulen entwickelt werden. Dabei werden die Daten und Funktionen, die zusammenarbeiten, in Objekten zusammengefasst, um die Wiederverwendbarkeit und Flexibilität des Codes zu erhöhen. "
   ]
  },
  {
   "cell_type": "markdown",
   "id": "b872f7cd",
   "metadata": {},
   "source": [
    "### Beispiel:"
   ]
  },
  {
   "cell_type": "code",
   "execution_count": null,
   "id": "e3d6178a",
   "metadata": {},
   "outputs": [],
   "source": [
    "class Person:\n",
    "    pass\n",
    "\n",
    "Markus = Person"
   ]
  },
  {
   "cell_type": "markdown",
   "id": "a225a58c",
   "metadata": {},
   "source": [
    "Im Obenstehenden Beispiel wird eine Klasse mit dem Namen Person erstellt.\n",
    "Das machen wir mit dem Schlüsselwort class gefolgt von dem Namen unserer Klasse, den wir frei wählen können.\n",
    "Es bietet sich jedoch an bündige und aussagende Bezeichnungen für Klassen zu verwenden.\n",
    "\n",
    "Auf Zeile 4 erstellen wir eine Instanz der Klasse \"Persohn\".\n",
    "Mann nennt dies auch Objekt --> daher auch \"Objektorientierte Programmierung\"\n"
   ]
  },
  {
   "cell_type": "markdown",
   "id": "38d9d9ae",
   "metadata": {},
   "source": [
    "#### Attribute:"
   ]
  },
  {
   "cell_type": "code",
   "execution_count": null,
   "id": "9725945c",
   "metadata": {},
   "outputs": [],
   "source": [
    "Markus.alter = 18\n",
    "\n",
    "print(Markus.alter)"
   ]
  },
  {
   "cell_type": "markdown",
   "id": "e4de2e00",
   "metadata": {},
   "source": [
    "Im obenstehenden Code auf Zeile 1 legen wir ein Attribut des Objekts fest. Der Name des Atributs ist Alter. Es handelt sich\n",
    "um einen Integer (Ganzzahl) mit Wert 18.\n",
    "Dabei lassen sich Attribute erstellen, abrufen und verändern.\n",
    "\n",
    "\n",
    "Auf ein Atribut greiffen wir folgendermassen zu:\n",
    "\n",
    "    objekt.atributname\n",
    "\n",
    "Tipp:\n",
    "Du kannst dir Attribute wie Variabeln vorstellen die mit einem gewissen Objekt zusammenhängen."
   ]
  },
  {
   "cell_type": "code",
   "execution_count": null,
   "id": "9f815da4",
   "metadata": {},
   "outputs": [],
   "source": [
    "Markus.lieblingsfach = \"Sport\"\n",
    "\n",
    "print(Markus.alter)\n",
    "print(Markus.lieblingsfach)"
   ]
  },
  {
   "cell_type": "markdown",
   "id": "aea6a791",
   "metadata": {},
   "source": [
    "Nun fügen wir ein weiteres Attribut hinzu. Diesmal handelt es sich aber um einen String.\n",
    "Du siehst dass Attribute verschiedenste Datentypen haben können."
   ]
  },
  {
   "cell_type": "markdown",
   "id": "cfc77b61",
   "metadata": {},
   "source": [
    "#### Was aber wenn wir für alle Objekte einer Klasse gewisse Attribute festlegen möchten?"
   ]
  },
  {
   "cell_type": "code",
   "execution_count": null,
   "id": "66444a45",
   "metadata": {},
   "outputs": [],
   "source": [
    "Peter = Person\n",
    "Peter.alter = 15\n",
    "Peter.lieblingsfach = \"Mathe\"\n",
    "\n",
    "Susi = Person\n",
    "Susi.alter = 19\n",
    "Susi.lieblingsfach = \"Musik\"\n",
    "\n",
    "print(Peter.alter)\n",
    "print(Susi.lieblingsfach)"
   ]
  },
  {
   "cell_type": "markdown",
   "id": "b1dd51c4",
   "metadata": {},
   "source": [
    "Du siehst dass wir zimlich viel Code wiederholen. Das lässt sich besser lösen!"
   ]
  },
  {
   "cell_type": "code",
   "execution_count": null,
   "id": "dff8b6c4",
   "metadata": {},
   "outputs": [],
   "source": [
    "class Person:\n",
    "    def __init__(self, alter, lieblingsfach):\n",
    "        self.alter = alter\n",
    "        self.lieblingsfach = lieblingsfach"
   ]
  },
  {
   "cell_type": "markdown",
   "id": "13977e2f",
   "metadata": {},
   "source": [
    "Wenn wir unsere Klasse \"Persohn\" folgendermassen anpassen, können wir die festgelegten Attribute direkt\n",
    "bei der Instazierung der Objekte festlegen:"
   ]
  },
  {
   "cell_type": "code",
   "execution_count": null,
   "id": "8d179c75",
   "metadata": {},
   "outputs": [],
   "source": [
    "Peter = Person(15, \"Mathe\")\n",
    "Susi = Person(19, \"Musik\")\n",
    "\n",
    "print(Peter.alter)\n",
    "print(Susi.lieblingsfach)"
   ]
  },
  {
   "cell_type": "markdown",
   "id": "5413a58d",
   "metadata": {},
   "source": [
    "#### Aber was haben wir genau gemacht?"
   ]
  },
  {
   "cell_type": "markdown",
   "id": "669143ca",
   "metadata": {},
   "source": [
    "In der Klasse Person haben wir eine neue Methode erstellt. Die konstruktor Methode.\n",
    "Du kannst dir Methoden wie Funktionen vorstellen. Der einzige Unterschied:\n",
    "\n",
    "    Methoden sind Funktionen die mit einem bestimmten Objekt bzw. einer bestimmten Klasse verknüpft sind\n",
    "    \n",
    "Diese Konstruktor Methode erstellen wir also mit def __init__(self):\n",
    "\n",
    "##### Du fragst dich bestimmt was mit slef genau gemeint ist und wozu es dient.\n",
    "    \n",
    "    Das ist ganz einfach. Beim erstellen eines neuen Objektes wird nun die Konstruktor Methode aufgerufen. Beim aufrufen\n",
    "        jeder Methode in Python wird als erstes Argumen self in die Methode mitgegeben. Dabei ist self das jeweilige Objekt \n",
    "        bei dem wir die Methode aufrufen.\n",
    "        \n",
    "\n",
    "Bsp: \n",
    "   Peter = Person(15, \"Mathe\") --> self = Peter\n",
    "   \n",
    "   Susi = Person(19, \"Musik\") --> self = Susi\n",
    "   \n",
    "In unserem Beispiel geben wir nach dem von Python automatisch mitgegebenen Argument \"self\" noch zwei weitere Argumente mit.\n",
    "\n",
    "    Und zwar alter (int) und lieblingsfach (str)\n",
    "    \n",
    "    \n",
    "Dabei legen wir die namen der Atribute nun in der Klasse selbst fest.\n",
    "\n",
    "Beispielsweise:\n",
    "    \n",
    "    -->: weist auf den erhaltenen Wert hin, also den wert den die Parameter in unserem Beispiel annehmen.\n",
    "    \n",
    "    class Person:\n",
    "    def __init__(self --> Peter, alter --> 15), lieblingsfach --> \"Mathe\"):\n",
    "        self.alter = alter \n",
    "        \n",
    "        #hier erstellen wir ein neues Atribut (self.alter) mit dem namen alter und weisen ihm den Parameter alter (15) zu.\n",
    "        \n",
    "        \n",
    "        self.lieblingsfach = lieblingsfach\n",
    "        \n",
    "        #analog zu alter\n",
    "        \n",
    "    Peter = Person(15, \"Mathe\")\n"
   ]
  },
  {
   "cell_type": "markdown",
   "id": "d4edd2c7",
   "metadata": {},
   "source": [
    "#### Methoden"
   ]
  },
  {
   "cell_type": "markdown",
   "id": "1c7917f8",
   "metadata": {},
   "source": [
    "Im letzten Kapitel hast du bereits die Konstruktor-Methode __init__ kennengelernt. In python können wir aber weitere Methoden unserer Wahl erstellen."
   ]
  },
  {
   "cell_type": "code",
   "execution_count": null,
   "id": "22fa50a9",
   "metadata": {},
   "outputs": [],
   "source": [
    "class Person:\n",
    "    def __init__(self, alter, lieblingsfach):\n",
    "        self.alter = alter\n",
    "        self.lieblingsfach = lieblingsfach\n",
    "        \n",
    "    def vorstellen(self):\n",
    "        print(f\"Ich bin {self.alter} Jahre alt und mein Lieblingsfach ist {self.lieblingsfach}\")\n",
    "        \n",
    "\n",
    "        \n",
    "Max = Person(23, \"Informatik\")\n",
    "Max.vorstellen()"
   ]
  },
  {
   "cell_type": "markdown",
   "id": "f51a0be1",
   "metadata": {},
   "source": [
    "Im obenstehenden Code haben wir nun eine weitere Methode mit dem Namen vorstellen hinzugefügt.\n",
    "Wir erstellen eine neue Methode inerhalb eines Objekts folgendermassen:\n",
    "\n",
    "    def methodenName(self)\n",
    "    \n",
    "    WICHTIG:\n",
    "        Methoden erhalten standardmässig immer self als das erste Argument, deshalb solltest du als ersten Parameter immer\n",
    "        self angeben.\n",
    "        \n",
    "Nun können wir diese Methode mit jedem Objekt unserer Klasse Person ausführen. Um eine Methode auszuführen schreibe:\n",
    "    \n",
    "    Objekt.methodenName(allfällige Argumente)\n",
    "    \n",
    "Vergiss dabei nicht, self ist immer das Objekt von dem aus wir die Methode aufrufen."
   ]
  },
  {
   "cell_type": "code",
   "execution_count": null,
   "id": "8f426ea6",
   "metadata": {},
   "outputs": [],
   "source": [
    "class Person:\n",
    "    def __init__(self, alter, lieblingsfach):\n",
    "        self.alter = alter\n",
    "        self.lieblingsfach = lieblingsfach\n",
    "        \n",
    "    def vorstellen(self, anzahl):\n",
    "        for _ in range(anzahl):\n",
    "            print(f\"Ich bin {self.alter} Jahre alt und mein Lieblingsfach ist {self.lieblingsfach}\")\n",
    "        \n",
    "\n",
    "        \n",
    "Max = Person(23, \"Informatik\")\n",
    "Max.vorstellen(5)"
   ]
  },
  {
   "cell_type": "markdown",
   "id": "344b957a",
   "metadata": {},
   "source": [
    "Das obenstehende Beispiel veranschaulicht wie wir der Methode Argumente mitgeben können. In diesem Fall erwartet unsere vorstellen Methode ein Argument welches die Anzahl an Vorstellungen angibt."
   ]
  }
 ],
 "metadata": {
  "kernelspec": {
   "display_name": "Python 3 (ipykernel)",
   "language": "python",
   "name": "python3"
  },
  "language_info": {
   "codemirror_mode": {
    "name": "ipython",
    "version": 3
   },
   "file_extension": ".py",
   "mimetype": "text/x-python",
   "name": "python",
   "nbconvert_exporter": "python",
   "pygments_lexer": "ipython3",
   "version": "3.9.13"
  }
 },
 "nbformat": 4,
 "nbformat_minor": 5
}
